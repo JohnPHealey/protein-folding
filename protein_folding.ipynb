{
 "cells": [
  {
   "cell_type": "markdown",
   "metadata": {},
   "source": [
    "### Energy ###\n",
    "\n",
    "Energy J[i, j] between two nearest-neighbour acids that are not connected in the chain\n",
    "<ul>\n",
    "    <li>Combined contributions of VDW, covalent bonds, and water effects</li>\n",
    "    <li>Depends on acid types of i and j</li>\n",
    "    <li>Energy between non-nearest-neighbours taken to be 0</li>\n",
    "    <li>Total energy of the protein is the sum over all non-covalently-bonded nearest neighbours (NBNN)</li>\n",
    "    <li>Remember not to simply double-count pais energies</li>\n",
    "    <li>Which acids are NBNN depends on the tertiary structure of the protein (Energy is a function of structure)</li>\n",
    "</ul>\n",
    "\n",
    "\n",
    "### Initialization ###\n",
    "\n",
    "Before the actual simulation:\n",
    "<ol>\n",
    "    <li>Choose a (permanent) primary structure for the protein:\n",
    "        <ol>\n",
    "            <li>Determine length of protein chain (N)</li>\n",
    "            <li>Decide (randomly) types of the N amino acids making up the chain (each link is an integer between 1 and 20)</li>\n",
    "            <li>These integers will be stored in an array of length N, called A.</li>\n",
    "        </ol>\n",
    "    </li>\n",
    "    <li>Specify interaction energies J<sub>i,j</sub> between the different types of acids:\n",
    "        <ul>\n",
    "            <li>20x20 matrix (20 different types) J</li>\n",
    "            <li>Index J at i,j to get the interaction energy between acid types i and j</li>\n",
    "            <li>We will assume that J<sub>i,j</sub> vary randomly withing some specified range</li>\n",
    "            <li><strong>Note: This can be changed. Setting J<sub>i,j</sub> to +-1 could be interesting</strong></li>\n",
    "        </ul>\n",
    "    </li>\n",
    "    <li>Choose an initial tertiary structure for the protein:\n",
    "        <ul>\n",
    "            <li>Can be a completely straight chain</li>\n",
    "            <li>Self-avoiding walk?</li>\n",
    "        </ul>\n",
    "    </li>\n",
    "    <li>Put the protein on a sufficiently large lattice\n",
    "</ol>\n",
    "\n",
    "### Simulation ###\n",
    "\n",
    "In one sweep of the protein, the following is done:\n",
    "\n",
    "Note: Think about pre-generating random numbers outside of loops.\n",
    "<ol>\n",
    "    <li>Randomly select an acid, a, from A (by choosing a random number between 0 and 19)</li>\n",
    "    <li>This acid is said to have coordinates (x<sub>0</sub>, y<sub>0</sub>)</li>\n",
    "    <li>Randomly select one of a's nearest neighbour positions (x<sub>n</sub>, y<sub>n</sub>)\n",
    "        (<strong>Note: The text is unclear as to what constitutes a nearest neighbour. It says that each position has 4 \n",
    "        nearest neighbours, but then says acids can transfer to a position diagonal to them - implying that each acid has \n",
    "        8 nearest neighbours, at least as far as transitions are concerned (for energy calculations, it seems to be the \n",
    "        classic 4 - see Figure 12.3)\n",
    "        </strong>\n",
    "    </li>\n",
    "    <li>See if a could move to (x<sub>n</sub>, y<sub>n</sub>) without breaking a covalent bond</li>\n",
    "    <li>If so, calculate the energy of the acid with its current neighbours, and that with its potential new neighbours</li>\n",
    "    <li>If the change in energy is negative, move the acid</li>\n",
    "    <li>Otherwise, move it probabilistically (if random num from 0-1 less than boltzmann factor -dE/kT)</li>\n",
    "    <li>Accumulate running sums for averages</li>\n",
    "</ol>\n",
    "\n",
    "This can be one MCS, or you can do this N times for one MCS.\n"
   ]
  },
  {
   "cell_type": "code",
   "execution_count": null,
   "metadata": {
    "collapsed": true
   },
   "outputs": [],
   "source": []
  }
 ],
 "metadata": {
  "kernelspec": {
   "display_name": "Python 3",
   "language": "python",
   "name": "python3"
  },
  "language_info": {
   "codemirror_mode": {
    "name": "ipython",
    "version": 3
   },
   "file_extension": ".py",
   "mimetype": "text/x-python",
   "name": "python",
   "nbconvert_exporter": "python",
   "pygments_lexer": "ipython3",
   "version": "3.6.1"
  }
 },
 "nbformat": 4,
 "nbformat_minor": 2
}

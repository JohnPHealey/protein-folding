{
 "cells": [
  {
   "cell_type": "markdown",
   "metadata": {},
   "source": [
    "### Energy ###\n",
    "\n",
    "Energy J[i, j] between two nearest-neighbour acids that are not connected in the chain\n",
    "<ul>\n",
    "    <li>Combined contributions of VDW, covalent bonds, and water effects</li>\n",
    "    <li>Depends on acid types of i and j</li>\n",
    "    <li>Energy between non-nearest-neighbours taken to be 0</li>\n",
    "    <li>Total energy of the protein is the sum over all non-covalently-bonded nearest neighbours (NBNN)</li>\n",
    "    <li>Remember not to simply double-count pair energies</li>\n",
    "    <li>Which acids are NBNN depends on the tertiary structure of the protein (Energy is a function of structure)</li>\n",
    "</ul>\n"
   ]
  },
  {
   "cell_type": "markdown",
   "metadata": {
    "collapsed": true
   },
   "source": [
    "### Initialization ###\n",
    "\n",
    "Before the actual simulation:\n",
    "<ol>\n",
    "    <li>Choose a (permanent) primary structure for the protein:\n",
    "        <ol>\n",
    "            <li>Determine length of protein chain (N)</li>\n",
    "            <li>Decide (randomly) types of the N amino acids making up the chain (each link is an integer between 1 and 20)</li>\n",
    "            <li>These integers will be stored in an array of length N, called A.</li>\n",
    "        </ol>\n",
    "    </li>\n",
    "    <li>Specify interaction energies J<sub>i,j</sub> between the different types of acids:\n",
    "        <ul>\n",
    "            <li>20x20 matrix (20 different types) J</li>\n",
    "            <li>Index J at i,j to get the interaction energy between acid types i and j</li>\n",
    "            <li>We will assume that J<sub>i,j</sub> vary randomly withing some specified range (-4 to -2?)</li>\n",
    "            <li><strong>Note: This can be changed. Setting J<sub>i,j</sub> to +-1 could be interesting</strong></li>\n",
    "        </ul>\n",
    "    </li>\n",
    "    <li>Choose an initial tertiary structure for the protein:\n",
    "        <ul>\n",
    "            <li>Can be a completely straight chain</li>\n",
    "            <li>Self-avoiding walk?</li>\n",
    "        </ul>\n",
    "    </li>\n",
    "    <li>Put the protein on a sufficiently large lattice\n",
    "</ol>"
   ]
  },
  {
   "cell_type": "markdown",
   "metadata": {},
   "source": [
    "### Simulation ###\n",
    "\n",
    "In one sweep of the protein, the following is done:\n",
    "\n",
    "Note: Think about pre-generating random numbers outside of loops.\n",
    "<ol>\n",
    "    <li>Randomly select an acid, a, from A (by choosing a random number between 0 and N-1)</li>\n",
    "    <li>This acid is said to have coordinates (x<sub>0</sub>, y<sub>0</sub>)</li>\n",
    "    <li>Randomly select one of a's nearest neighbour positions (x<sub>n</sub>, y<sub>n</sub>)\n",
    "        (<strong>Note: The text is unclear as to what constitutes a nearest neighbour. It says that each position has 4 \n",
    "        nearest neighbours, but then says acids can transfer to a position diagonal to them - implying that each acid has \n",
    "        8 nearest neighbours, at least as far as transitions are concerned (for energy calculations, it seems to be the \n",
    "        classic 4 - see Figure 12.3)\n",
    "        </strong>\n",
    "    </li>\n",
    "    <li>See if a could move to (x<sub>n</sub>, y<sub>n</sub>) without breaking a covalent bond</li>\n",
    "    <li>If so, calculate the energy of the acid with its current neighbours, and that with its potential new neighbours</li>\n",
    "    <li>If the change in energy is <strong>negative</strong>, move the acid</li>\n",
    "    <li>Otherwise, move it probabilistically (if random num from 0-1 less than boltzmann factor exp(-dE/kT))</li>\n",
    "    <li>Accumulate running sums for averages</li>\n",
    "</ol>\n",
    "\n",
    "This can be one MCS, or you can do this N times for one MCS.\n",
    "\n",
    "After you do all sweeps, divide running sums by number of sweeps to get averages for the particular temperature at which \n",
    "the sweeps were performed.\n",
    "\n",
    "Can investigate starting unfolded at a high temperature and seeing how Energy and Chain Length vary with temperature.\n",
    "\n",
    "Can also investigate how an initially unfolded chain behaves at low temperature (Levinthal's paradox):\n",
    "<ul>\n",
    "    <li>Run simulation at low temperature on same chain multiple times</li>\n",
    "    <li>Find time series of energy for each run (E vs Current MC step)</li>\n",
    "    <li>Find that runs have different final energies (tertiary structures)</li>\n",
    "    <li>In each case, protein was in \"metastable\" state, was not able to locate global minimum</li>\n",
    "    <li>Actual protein is able to find global minimum from so many possible structures in no time!!!!!!!</li>\n",
    "</ul>\n",
    "\n",
    "How might we solve this paradox, and get the protein into the lowest energy state?\n",
    "\n",
    "Annealing:\n",
    "<ul>\n",
    "    <li>Start the simulation at a very high temperature, allowing the protein to explore all of the configurations</li>\n",
    "    <li>Slowly lower the temperature, so the protein will still fluctuate, but will spend increasing amounts of time \n",
    "    in the lowest-energy state</li>\n",
    "    <li>When the final temperature is reached, hopefully the protein managed to sample a bunch of different states, and has \n",
    "    landed in the most stable one.</li>\n",
    "</ul>"
   ]
  },
  {
   "cell_type": "markdown",
   "metadata": {},
   "source": [
    "### Notes ###\n",
    "\n",
    "<ul>\n",
    "    <li>Measured quantities will likely be total energy and end-to-end length, where length is calculated as the pythagorean \n",
    "    difference between the coordinates of the acids on each end of the chain</li>\n",
    "    <li>Should notice a fairly abrupt transition in these quantities around T = 2. Transition should get more abrupt with \n",
    "    larger chain (i.e. N = 100)</li>"
   ]
  },
  {
   "cell_type": "markdown",
   "metadata": {},
   "source": [
    "### Take-away ###\n",
    "<ul>\n",
    "    <li>Our model does show a transition to a folded structure at low T</li>\n",
    "    <li>We are not able to avoid getting trapped in meta-stable states, but annealing helps</li>\n",
    "    <li>Annealing is less effective on longer (therefore more realistic) protein chains, since these chains have more possible \n",
    "    states, so can explore a smaller fraction of them in a given amount of time</li>\n",
    "    <li>So how does nature seem to avoid Levinthal's paradox, and so quickly?\n",
    "        <ul>\n",
    "            <li>Maybe it doesn't</li>\n",
    "            <li>Nature only uses a small portion of the possible primary structures</li>\n",
    "            <li>It is possible that the ones used have energy surfaces that allow them to efficiently get to their unique \n",
    "            tertiary structure</li>\n",
    "        </ul>\n",
    "    </li>\n",
    "</ul>"
   ]
  },
  {
   "cell_type": "markdown",
   "metadata": {
    "collapsed": true
   },
   "source": [
    "### Coding ###\n",
    "\n",
    "<ul>\n",
    "    <li>Collection of acids, A, will be numpy 1d-array of numpy 1d-arrays [type, x, y]</li>\n",
    "    <li>Types will be random, created in the initialization period using numpy.random.randint()\n",
    "    <li>Lattice will be numpy 2d-array holding the chain</li>\n",
    "    \n",
    "</ul>"
   ]
  },
  {
   "cell_type": "markdown",
   "metadata": {},
   "source": [
    "## Initialization ##"
   ]
  },
  {
   "cell_type": "code",
   "execution_count": 25,
   "metadata": {
    "collapsed": true
   },
   "outputs": [],
   "source": [
    "import numpy as np\n",
    "from matplotlib import pyplot as plt\n",
    "from numba import jit\n",
    "import math"
   ]
  },
  {
   "cell_type": "code",
   "execution_count": 233,
   "metadata": {},
   "outputs": [],
   "source": [
    "T = 10\n",
    "N = 15\n",
    "MCS = 10000000\n",
    "\n",
    "\n",
    "# Interaction energies between different types of acids\n",
    "# Interaction energy between type i and type j is J[i-1, j-1]\n",
    "J = np.random.uniform(-4, -2, size=(20, 20))\n",
    "\n",
    "\n",
    "# Initially, no acids are non-bonded nearest-neighbours\n",
    "E_chain = 0\n",
    "\n",
    "\n",
    "# Make 2N by 2N lattice to ensure that the protein has rooom to fold\n",
    "lattice = np.zeros(shape=(2*N,2*N), dtype=int)\n",
    "\n",
    "\n",
    "# The type of each acid in the chain\n",
    "types = np.random.randint(1, 21, size=N)\n",
    "\n",
    "\n",
    "# Create x and y coordinates such that the chain will be horizontal, and centered in the 2N x 2N lattice\n",
    "x_start = int(N/2)\n",
    "x_end = int(3*N/2)\n",
    "pos_xs = np.arange(x_start, x_end, dtype=int)\n",
    "pos_ys = np.empty(N, dtype=int); pos_ys.fill(N)\n",
    "\n",
    "\n",
    "# Zip type, x_pos, and y_pos to create array defining each acid (this is the protein)\n",
    "for i in range(A.shape[0]):\n",
    "    A[i] = np.array([types[i], pos_xs[i], pos_ys[i]])    \n",
    "    \n",
    "    \n",
    "# Put protein on lattice\n",
    "lattice[N, x_start:x_end] = types\n",
    "\n",
    "\n",
    "# Pre-select random acid picks and random neighbour picks\n",
    "acid_picks = np.random.randint(0, A.shape[0], size=MCS) # 1 acid picked from A each MCS\n",
    "curr_acid_pick = 0\n",
    "\n",
    "neighs = np.array([[-1,1], [-1,-1], [1,-1], [1,1]])\n",
    "\n",
    "neigh_picks = np.random.randint(0, 4, size=MCS) # 1 acid picked from A each MCS\n",
    "curr_neigh_pick = 0"
   ]
  },
  {
   "cell_type": "markdown",
   "metadata": {},
   "source": [
    "## Monte Carlo Sweep ##"
   ]
  },
  {
   "cell_type": "code",
   "execution_count": 234,
   "metadata": {},
   "outputs": [],
   "source": [
    "# Selects one acid, determines the change in energy from moving that acid, then either moves it or doesn't\n",
    "def sweep(): \n",
    "    \n",
    "    # Keep track of which random picks are to be used next\n",
    "    global curr_acid_pick\n",
    "    global curr_neigh_pick\n",
    "    \n",
    "    \n",
    "    # Randomly select one acid in the chain\n",
    "    acid = A[acid_picks[curr_acid_pick]]\n",
    "    acid_x = acid[1]\n",
    "    acid_y = acid[2]\n",
    "    curr_acid_pick += 1\n",
    "    \n",
    "    \n",
    "    # Randomly select a nearest neighbour\n",
    "    neigh_index = neigh_picks[curr_neigh_pick]\n",
    "    curr_neigh_pick += 1\n",
    "    \n",
    "    neigh_offset = neighs[neigh_index]\n",
    "    \n",
    "    neigh_pos = (acid_x+neigh_offset[0], acid_y+neigh_offset[1])\n",
    "    \n",
    "    neigh_val = lattice[neigh_pos[1], neigh_pos[0]]\n",
    "    lattice[neigh_pos[1], neigh_pos[0]] = 40"
   ]
  },
  {
   "cell_type": "code",
   "execution_count": 358,
   "metadata": {},
   "outputs": [
    {
     "data": {
      "image/png": "[encoded data removed]",
      "text/plain": [
       "<matplotlib.figure.Figure at 0x235af06a208>"
      ]
     },
     "metadata": {},
     "output_type": "display_data"
    }
   ],
   "source": [
    "sweep()\n",
    "\n",
    "# Show the protein on the lattice\n",
    "plt.imshow(lattice)\n",
    "plt.show()"
   ]
  }
 ],
 "metadata": {
  "kernelspec": {
   "display_name": "Python 3",
   "language": "python",
   "name": "python3"
  },
  "language_info": {
   "codemirror_mode": {
    "name": "ipython",
    "version": 3
   },
   "file_extension": ".py",
   "mimetype": "text/x-python",
   "name": "python",
   "nbconvert_exporter": "python",
   "pygments_lexer": "ipython3",
   "version": "3.6.1"
  }
 },
 "nbformat": 4,
 "nbformat_minor": 2
}

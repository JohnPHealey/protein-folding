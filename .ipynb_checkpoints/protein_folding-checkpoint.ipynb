{
 "cells": [
  {
   "cell_type": "markdown",
   "metadata": {},
   "source": [
    "### Energy ###\n",
    "\n",
    "Energy J[i, j] between two nearest-neighbour acids that are not connected in the chain\n",
    "<ul>\n",
    "    <li>Combined contributions of VDW, covalent bonds, and water effects</li>\n",
    "    <li>Depends on acid types of i and j</li>\n",
    "    <li>Energy between non-nearest-neighbours taken to be 0</li>\n",
    "    <li>Total energy of the protein is the sum over all non-covalently-bonded nearest neighbours (NBNN)</li>\n",
    "    <li>Remember not to simply double-count pair energies</li>\n",
    "    <li>Which acids are NBNN depends on the tertiary structure of the protein (Energy is a function of structure)</li>\n",
    "</ul>\n"
   ]
  },
  {
   "cell_type": "markdown",
   "metadata": {
    "collapsed": true
   },
   "source": [
    "### Initialization ###\n",
    "\n",
    "Before the actual simulation:\n",
    "<ol>\n",
    "    <li>Choose a (permanent) primary structure for the protein:\n",
    "        <ol>\n",
    "            <li>Determine length of protein chain (N)</li>\n",
    "            <li>Decide (randomly) types of the N amino acids making up the chain (each link is an integer between 1 and 20)</li>\n",
    "            <li>These integers will be stored in an array of length N, called A.</li>\n",
    "        </ol>\n",
    "    </li>\n",
    "    <li>Specify interaction energies J<sub>i,j</sub> between the different types of acids:\n",
    "        <ul>\n",
    "            <li>20x20 matrix (20 different types) J</li>\n",
    "            <li>Index J at i,j to get the interaction energy between acid types i and j</li>\n",
    "            <li>We will assume that J<sub>i,j</sub> vary randomly withing some specified range (-4 to -2?)</li>\n",
    "            <li><strong>Note: This can be changed. Setting J<sub>i,j</sub> to +-1 could be interesting</strong></li>\n",
    "        </ul>\n",
    "    </li>\n",
    "    <li>Choose an initial tertiary structure for the protein:\n",
    "        <ul>\n",
    "            <li>Can be a completely straight chain</li>\n",
    "            <li>Self-avoiding walk?</li>\n",
    "        </ul>\n",
    "    </li>\n",
    "    <li>Put the protein on a sufficiently large lattice\n",
    "</ol>"
   ]
  },
  {
   "cell_type": "markdown",
   "metadata": {},
   "source": [
    "### Simulation ###\n",
    "\n",
    "In one sweep of the protein, the following is done:\n",
    "\n",
    "Note: Think about pre-generating random numbers outside of loops.\n",
    "<ol>\n",
    "    <li>Randomly select an acid, a, from A (by choosing a random number between 0 and N-1)</li>\n",
    "    <li>This acid is said to have coordinates (x<sub>0</sub>, y<sub>0</sub>)</li>\n",
    "    <li>Randomly select one of a's nearest neighbour positions (x<sub>n</sub>, y<sub>n</sub>)\n",
    "        (<strong>Note: The text is unclear as to what constitutes a nearest neighbour. It says that each position has 4 \n",
    "        nearest neighbours, but then says acids can transfer to a position diagonal to them - implying that each acid has \n",
    "        8 nearest neighbours, at least as far as transitions are concerned (for energy calculations, it seems to be the \n",
    "        classic 4 - see Figure 12.3)\n",
    "        </strong>\n",
    "    </li>\n",
    "    <li>See if a could move to (x<sub>n</sub>, y<sub>n</sub>) without breaking a covalent bond</li>\n",
    "    <li>If so, calculate the energy of the acid with its current neighbours, and that with its potential new neighbours</li>\n",
    "    <li>If the change in energy is <strong>negative</strong>, move the acid</li>\n",
    "    <li>Otherwise, move it probabilistically (if random num from 0-1 less than boltzmann factor exp(-dE/kT))</li>\n",
    "    <li>Accumulate running sums for averages</li>\n",
    "</ol>\n",
    "\n",
    "This can be one MCS, or you can do this N times for one MCS.\n",
    "\n",
    "After you do all sweeps, divide running sums by number of sweeps to get averages for the particular temperature at which \n",
    "the sweeps were performed.\n",
    "\n",
    "Can investigate starting unfolded at a high temperature and seeing how Energy and Chain Length vary with temperature.\n",
    "\n",
    "Can also investigate how an initially unfolded chain behaves at low temperature (Levinthal's paradox):\n",
    "<ul>\n",
    "    <li>Run simulation at low temperature on same chain multiple times</li>\n",
    "    <li>Find time series of energy for each run (E vs Current MC step)</li>\n",
    "    <li>Find that runs have different final energies (tertiary structures)</li>\n",
    "    <li>In each case, protein was in \"metastable\" state, was not able to locate global minimum</li>\n",
    "    <li>Actual protein is able to find global minimum from so many possible structures in no time!!!!!!!</li>\n",
    "</ul>\n",
    "\n",
    "How might we solve this paradox, and get the protein into the lowest energy state?\n",
    "\n",
    "Annealing:\n",
    "<ul>\n",
    "    <li>Start the simulation at a very high temperature, allowing the protein to explore all of the configurations</li>\n",
    "    <li>Slowly lower the temperature, so the protein will still fluctuate, but will spend increasing amounts of time \n",
    "    in the lowest-energy state</li>\n",
    "    <li>When the final temperature is reached, hopefully the protein managed to sample a bunch of different states, and has \n",
    "    landed in the most stable one.</li>\n",
    "</ul>"
   ]
  },
  {
   "cell_type": "markdown",
   "metadata": {},
   "source": [
    "### Notes ###\n",
    "\n",
    "<ul>\n",
    "    <li>Measured quantities will likely be total energy and end-to-end length, where length is calculated as the pythagorean \n",
    "    difference between the coordinates of the acids on each end of the chain</li>\n",
    "    <li>Should notice a fairly abrupt transition in these quantities around T = 2. Transition should get more abrupt with \n",
    "    larger chain (i.e. N = 100)</li>"
   ]
  },
  {
   "cell_type": "markdown",
   "metadata": {},
   "source": [
    "### Take-away ###\n",
    "<ul>\n",
    "    <li>Our model does show a transition to a folded structure at low T</li>\n",
    "    <li>We are not able to avoid getting trapped in meta-stable states, but annealing helps</li>\n",
    "    <li>Annealing is less effective on longer (therefore more realistic) protein chains, since these chains have more possible \n",
    "    states, so can explore a smaller fraction of them in a given amount of time</li>\n",
    "    <li>So how does nature seem to avoid Levinthal's paradox, and so quickly?\n",
    "        <ul>\n",
    "            <li>Maybe it doesn't</li>\n",
    "            <li>Nature only uses a small portion of the possible primary structures</li>\n",
    "            <li>It is possible that the ones used have energy surfaces that allow them to efficiently get to their unique \n",
    "            tertiary structure</li>\n",
    "        </ul>\n",
    "    </li>\n",
    "</ul>"
   ]
  },
  {
   "cell_type": "markdown",
   "metadata": {
    "collapsed": true
   },
   "source": [
    "### Coding ###\n",
    "\n",
    "<ul>\n",
    "    <li>Collection of acids, A, will be numpy 1d-array of numpy 1d-arrays [type, x, y]</li>\n",
    "    <li>Types will be random, created in the initialization period using numpy.random.randint()\n",
    "    <li>Lattice will be numpy 2d-array holding the chain</li>\n",
    "    \n",
    "</ul>"
   ]
  },
  {
   "cell_type": "markdown",
   "metadata": {},
   "source": [
    "## Initialization ##"
   ]
  },
  {
   "cell_type": "code",
   "execution_count": 44,
   "metadata": {
    "collapsed": true
   },
   "outputs": [],
   "source": [
    "import numpy as np\n",
    "from matplotlib import pyplot as plt\n",
    "from numba import jit\n",
    "import math\n",
    "from scipy import optimize"
   ]
  },
  {
   "cell_type": "code",
   "execution_count": 72,
   "metadata": {},
   "outputs": [],
   "source": [
    "N = 15\n",
    "MCS = 500000\n",
    "\n",
    "\n",
    "# Interaction energies between different types of acids\n",
    "# Interaction energy between type i and type j is J[i, j]\n",
    "J = np.random.uniform(-4, -2, size=(20, 20))\n",
    "J = np.hstack((np.zeros((J.shape[0],1)),J)) # Type 0 doesn't exist, has an interaction energy\n",
    "J = np.vstack((np.zeros((1,J.shape[1])),J)) # of 0 with every type\n",
    "J = (J + J.T)/2\n",
    "\n",
    "\n",
    "\n",
    "# The type of each acid in the chain\n",
    "types = np.random.randint(1, 21, size=N, dtype=int)\n",
    "\n",
    "\n",
    "# Create x and y coordinates such that the chain will be horizontal, and centered in the 2N x 2N lattice\n",
    "x_start = int(2*N)\n",
    "x_end = int(3*N)\n",
    "y_start = int(2.5*N)\n",
    "pos_xs = np.arange(x_start, x_end, dtype=int)\n",
    "pos_ys = np.empty(N, dtype=int); pos_ys.fill(y_start)\n",
    "\n",
    "\n",
    "# Zip type, x_pos, and y_pos to create array defining each acid (this is the protein)\n",
    "\n",
    "\n",
    "\n",
    "#left-down, left-up, right-up, right-down\n",
    "move_neighs = np.array([(-1,1), (-1,-1), (1,-1), (1,1)], dtype=int)"
   ]
  },
  {
   "cell_type": "code",
   "execution_count": 73,
   "metadata": {},
   "outputs": [],
   "source": [
    "@jit\n",
    "def initialize_lattice():\n",
    "\n",
    "    A = np.empty(shape=(N,3), dtype=int)\n",
    "    for i in range(A.shape[0]):\n",
    "        A[i] = np.array([types[i], pos_xs[i], pos_ys[i]])\n",
    "    \n",
    "    lattice = np.zeros(shape=(5*N,5*N), dtype=int)\n",
    "    \n",
    "    # Put protein on lattice\n",
    "    lattice[y_start, x_start:x_end] = types\n",
    "    \n",
    "    return lattice, A\n",
    "\n",
    "#initialize_lattice()"
   ]
  },
  {
   "cell_type": "markdown",
   "metadata": {},
   "source": [
    "## Helper Methods ##"
   ]
  },
  {
   "cell_type": "code",
   "execution_count": 74,
   "metadata": {
    "collapsed": true
   },
   "outputs": [],
   "source": [
    "@jit\n",
    "def get_neighbours(lattice, x, y):\n",
    "    left = (x-1, y) if not x == 0 else None\n",
    "    bottom = (x, y+1) if not y == lattice.shape[1]-1 else None\n",
    "    right = (x+1, y) if not x == lattice.shape[0]-1 else None\n",
    "    top = (x, y-1) if not y == 0 else None\n",
    "        \n",
    "    return [left, bottom, right, top]"
   ]
  },
  {
   "cell_type": "code",
   "execution_count": 75,
   "metadata": {
    "collapsed": true
   },
   "outputs": [],
   "source": [
    "@jit\n",
    "def energy(lattice, a_type, x, y, partners):\n",
    "    \n",
    "    #global lattice\n",
    "    \n",
    "    neighbours = get_neighbours(lattice, x, y)\n",
    "    \n",
    "    #print(\"\\nEnergy For \" + str(x) + \", \" + str(y))\n",
    "        \n",
    "    E = 0\n",
    "    for neigh in neighbours:\n",
    "        \n",
    "        if neigh not in partners:\n",
    "            \n",
    "            #print(str(neigh) + \" \" + str(lattice[neigh[1], neigh[0]]))\n",
    "            \n",
    "            str(lattice[neigh[1], neigh[0]])\n",
    "            \n",
    "            neigh_type = lattice[neigh[1], neigh[0]] # SLOW\n",
    "            E += J[a_type, neigh_type]\n",
    "      \n",
    "    #print(\"E: \" + str(E))\n",
    "    return E"
   ]
  },
  {
   "cell_type": "code",
   "execution_count": 76,
   "metadata": {},
   "outputs": [],
   "source": [
    "@jit\n",
    "def re_center(lattice, A):\n",
    "    \n",
    "    offset_x = x_start - A[0,1]\n",
    "    offset_y = y_start - A[0,2]\n",
    "    \n",
    "    for row in A:\n",
    "        \n",
    "        lattice[row[2], row[1]] = 0\n",
    "        \n",
    "        row[1:] = [row[1] + offset_x, row[2] + offset_y]\n",
    "        \n",
    "        lattice[row[2], row[1]] = row[0]\n",
    "    \n",
    "    return lattice, A"
   ]
  },
  {
   "cell_type": "markdown",
   "metadata": {},
   "source": [
    "## Monte Carlo Sweep ##"
   ]
  },
  {
   "cell_type": "code",
   "execution_count": 77,
   "metadata": {
    "collapsed": true
   },
   "outputs": [],
   "source": [
    "# Selects one acid, determines the change in energy from moving that acid, then either moves it or doesn't\n",
    "@jit\n",
    "def sweep(lattice, A, E_chain, acid_index, neigh_index, prob_index, T): \n",
    "\n",
    "    \n",
    "    # Randomly select one acid in the chain\n",
    "    acid_pos = acid_picks[acid_index]\n",
    "    \n",
    "    \n",
    "    acid = A[acid_pos]\n",
    "    acid_x = acid[1]\n",
    "    acid_y = acid[2]\n",
    "    \n",
    "    \n",
    "    # Determine the acids the currently examined acid is bonded to \n",
    "    first_partner = tuple(A[acid_pos-1, 1:]) if not acid_pos == 0 else None\n",
    "    second_partner = tuple(A[acid_pos+1, 1:]) if not acid_pos == len(A)-1 else None\n",
    "    partners = (first_partner, second_partner)\n",
    "        \n",
    "    \n",
    "    # Randomly select a nearest neighbour to move to\n",
    "    neigh_type = neigh_picks[neigh_index]\n",
    "    \n",
    "    neigh_offset = move_neighs[neigh_type]\n",
    "    \n",
    "    neigh_pos = (acid_x+neigh_offset[0], acid_y+neigh_offset[1]) # creating a tuple is faster than assigning a list\n",
    "    \n",
    "    \n",
    "    # Determine if acid can move to selected position without breaking bonds  \n",
    "    can_move = True\n",
    "    \n",
    "    if lattice[neigh_pos[1], neigh_pos[0]] != 0:\n",
    "        can_move = False\n",
    "        \n",
    "    else:\n",
    "        for partner in partners:\n",
    "            if partner is None:\n",
    "                continue\n",
    "            elif not (abs(partner[0] - neigh_pos[0]) + abs(partner[1] - neigh_pos[1]) == 1):\n",
    "                can_move = False\n",
    "    \n",
    "    #print(can_move)\n",
    "    \n",
    "    \n",
    "    if can_move:\n",
    "        \n",
    "        \n",
    "        # Show the protein on the lattice\n",
    "        #plt.imshow(lattice)\n",
    "        #plt.show()\n",
    "        \n",
    "        E_i = energy(lattice, acid[0], acid_x, acid_y, partners)\n",
    "        E_f = energy(lattice, acid[0], neigh_pos[0], neigh_pos[1], partners)\n",
    "        delta_E = E_f-E_i        \n",
    "\n",
    "        \n",
    "        if delta_E < 0 or prob_picks[prob_index] < math.exp(-delta_E/T):\n",
    "            \n",
    "            #print(\"\\nMoving from (\" + str(acid_x) + \", \" + str(acid_y) + \") to (\" + str(neigh_pos[0]) + \", \" + \n",
    "                  #str(neigh_pos[1]) + \")\")\n",
    "            \n",
    "            lattice[acid_y, acid_x] = 0\n",
    "                        \n",
    "            lattice[neigh_pos[1], neigh_pos[0]] = acid[0]\n",
    "            \n",
    "            A[acid_pos] = [acid[0], neigh_pos[0], neigh_pos[1]]\n",
    "            \n",
    "            \n",
    "            #print(\"\\nNew neighbours: \" + str(get_neighbours(neigh_pos[0], neigh_pos[1])))\n",
    "                        \n",
    "            \n",
    "            E_chain += delta_E\n",
    "            \n",
    "            #print(\"changed A at \" + str(acid_pos))\n",
    "            #print(A)\n",
    "\n",
    "    l_chain = (A[0, 1] - A[A.shape[0]-1, 1])**2 + (A[0, 2] - A[A.shape[0]-1, 2])**2\n",
    "    l_chain = math.sqrt(l_chain)\n",
    "        \n",
    "    return lattice, A, E_chain, l_chain"
   ]
  },
  {
   "cell_type": "code",
   "execution_count": 78,
   "metadata": {
    "scrolled": false
   },
   "outputs": [
    {
     "data": {
      "image/png": "[encoded data removed]",
      "text/plain": [
       "<matplotlib.figure.Figure at 0x1d972b25748>"
      ]
     },
     "metadata": {},
     "output_type": "display_data"
    },
    {
     "name": "stdout",
     "output_type": "stream",
     "text": [
      "Done10.0\n"
     ]
    },
    {
     "data": {
      "image/png": "[encoded data removed]",
      "text/plain": [
       "<matplotlib.figure.Figure at 0x1d96fee2320>"
      ]
     },
     "metadata": {},
     "output_type": "display_data"
    },
    {
     "name": "stdout",
     "output_type": "stream",
     "text": [
      "Done9.5\n"
     ]
    },
    {
     "data": {
      "image/png": "[encoded data removed]",
      "text/plain": [
       "<matplotlib.figure.Figure at 0x1d9701e96a0>"
      ]
     },
     "metadata": {},
     "output_type": "display_data"
    },
    {
     "name": "stdout",
     "output_type": "stream",
     "text": [
      "Done9.0\n"
     ]
    },
    {
     "data": {
      "image/png": "[encoded data removed]",
      "text/plain": [
       "<matplotlib.figure.Figure at 0x1d972bd4128>"
      ]
     },
     "metadata": {},
     "output_type": "display_data"
    },
    {
     "ename": "IndexError",
     "evalue": "index 75 is out of bounds for axis 1 with size 75",
     "output_type": "error",
     "traceback": [
      "\u001b[1;31m---------------------------------------------------------------------------\u001b[0m",
      "\u001b[1;31mIndexError\u001b[0m                                Traceback (most recent call last)",
      "\u001b[1;32m<ipython-input-78-6cb1677f2b0d>\u001b[0m in \u001b[0;36m<module>\u001b[1;34m()\u001b[0m\n\u001b[0;32m     33\u001b[0m     \u001b[1;32mfor\u001b[0m \u001b[0mi\u001b[0m \u001b[1;32min\u001b[0m \u001b[0mrange\u001b[0m\u001b[1;33m(\u001b[0m\u001b[0mMCS\u001b[0m\u001b[1;33m)\u001b[0m\u001b[1;33m:\u001b[0m\u001b[1;33m\u001b[0m\u001b[0m\n\u001b[0;32m     34\u001b[0m         \u001b[0mE\u001b[0m\u001b[1;33m[\u001b[0m\u001b[0mi\u001b[0m\u001b[1;33m]\u001b[0m \u001b[1;33m=\u001b[0m \u001b[0mE_chain\u001b[0m\u001b[1;33m\u001b[0m\u001b[0m\n\u001b[1;32m---> 35\u001b[1;33m         \u001b[0mlattice\u001b[0m\u001b[1;33m,\u001b[0m \u001b[0mA\u001b[0m\u001b[1;33m,\u001b[0m \u001b[0mE_chain\u001b[0m\u001b[1;33m,\u001b[0m \u001b[0ml_chain\u001b[0m \u001b[1;33m=\u001b[0m \u001b[0msweep\u001b[0m\u001b[1;33m(\u001b[0m\u001b[0mlattice\u001b[0m\u001b[1;33m,\u001b[0m \u001b[0mA\u001b[0m\u001b[1;33m,\u001b[0m \u001b[0mE_chain\u001b[0m\u001b[1;33m,\u001b[0m \u001b[0mcurr_acid_pick\u001b[0m\u001b[1;33m,\u001b[0m \u001b[0mcurr_neigh_pick\u001b[0m\u001b[1;33m,\u001b[0m \u001b[0mcurr_prob_pick\u001b[0m\u001b[1;33m,\u001b[0m \u001b[0mT\u001b[0m\u001b[1;33m[\u001b[0m\u001b[0mj\u001b[0m\u001b[1;33m]\u001b[0m\u001b[1;33m)\u001b[0m\u001b[1;33m\u001b[0m\u001b[0m\n\u001b[0m\u001b[0;32m     36\u001b[0m \u001b[1;33m\u001b[0m\u001b[0m\n\u001b[0;32m     37\u001b[0m         \u001b[1;32mif\u001b[0m \u001b[1;33m(\u001b[0m\u001b[0mi\u001b[0m\u001b[1;33m>\u001b[0m\u001b[1;36m0.1\u001b[0m\u001b[1;33m*\u001b[0m\u001b[0mMCS\u001b[0m\u001b[1;33m)\u001b[0m\u001b[1;33m:\u001b[0m\u001b[1;33m\u001b[0m\u001b[0m\n",
      "\u001b[1;31mIndexError\u001b[0m: index 75 is out of bounds for axis 1 with size 75"
     ]
    }
   ],
   "source": [
    "T = np.arange(10, 0, -0.5)\n",
    "\n",
    "E_averages = np.zeros(len(T))\n",
    "l_averages = np.zeros(len(T))\n",
    "\n",
    "lattice, A = initialize_lattice()\n",
    "E_chain = 0\n",
    "\n",
    "\n",
    "for j in range(len(T)):\n",
    "\n",
    "    E = np.zeros(MCS)\n",
    "    E_average = 0\n",
    "    l_average = 0\n",
    "\n",
    "\n",
    "\n",
    "    plt.imshow(lattice)\n",
    "    plt.show()\n",
    "\n",
    "\n",
    "    # Pre-select random acid and neighbour picks for better performance\n",
    "    acid_picks = np.random.randint(0, A.shape[0], size=MCS) # 1 acid picked from A each MCS\n",
    "    curr_acid_pick = 0\n",
    "\n",
    "    neigh_picks = np.random.randint(0, 4, size=MCS) # 1 acid picked from A each MCS\n",
    "    curr_neigh_pick = 0\n",
    "\n",
    "    prob_picks = np.random.uniform(0, 1, size=MCS)\n",
    "    curr_prob_pick = 0\n",
    "\n",
    "\n",
    "    for i in range(MCS):\n",
    "        E[i] = E_chain\n",
    "        lattice, A, E_chain, l_chain = sweep(lattice, A, E_chain, curr_acid_pick, curr_neigh_pick, curr_prob_pick, T[j])\n",
    "\n",
    "        if (i>0.1*MCS):\n",
    "            E_average += E_chain\n",
    "            l_average += l_chain\n",
    "\n",
    "        curr_acid_pick += 1\n",
    "        curr_neigh_pick += 1\n",
    "        curr_prob_pick += 1\n",
    "\n",
    "\n",
    "    #plt.plot(np.arange(0, int(MCS)), E)\n",
    "    #plt.show()\n",
    "\n",
    "    print(\"Done\" + str(T[j]))\n",
    "\n",
    "    E_average /= (0.9*MCS-1)\n",
    "    E_averages[j] = E_average\n",
    "    \n",
    "    l_average /= (0.9*MCS-1)\n",
    "    l_averages[j] = l_average\n",
    "    \n",
    "    lattice, A = re_center(lattice, A)"
   ]
  },
  {
   "cell_type": "code",
   "execution_count": 71,
   "metadata": {},
   "outputs": [
    {
     "data": {
      "image/png": "[encoded data removed]",
      "text/plain": [
       "<matplotlib.figure.Figure at 0x1d96f973588>"
      ]
     },
     "metadata": {},
     "output_type": "display_data"
    },
    {
     "data": {
      "image/png": "[encoded data removed]",
      "text/plain": [
       "<matplotlib.figure.Figure at 0x1d97133a080>"
      ]
     },
     "metadata": {},
     "output_type": "display_data"
    }
   ],
   "source": [
    "plt.plot(T, E_averages, 'ro')\n",
    "#plt.ylim(ymax=-10)\n",
    "#plt.ylim(ymin=-50)\n",
    "plt.show()\n",
    "\n",
    "plt.plot(T, l_averages, 'ro')\n",
    "#plt.ylim(ymax=6)\n",
    "#plt.ylim(ymin=2.5)\n",
    "plt.show()"
   ]
  },
  {
   "cell_type": "code",
   "execution_count": null,
   "metadata": {},
   "outputs": [],
   "source": [
    "out = open('100.dat', 'w')\n",
    "for i in range(len(T)):\n",
    "    out.write(str(T[i]) + \" \" + str(E_averages[i]) + \" \" + str(l_averages[i]) + \"\\n\")\n",
    "    \n",
    "out.close()"
   ]
  },
  {
   "cell_type": "code",
   "execution_count": null,
   "metadata": {},
   "outputs": [],
   "source": [
    "E = np.zeros(MCS)\n",
    "E_chain = 0\n",
    "E_average = 0\n",
    "\n",
    "lattice, A = initialize_lattice()\n",
    "\n",
    "\n",
    "# Pre-select random acid and neighbour picks for better performance\n",
    "acid_picks = np.random.randint(0, A.shape[0], size=MCS) # 1 acid picked from A each MCS\n",
    "curr_acid_pick = 0\n",
    "\n",
    "neigh_picks = np.random.randint(0, 4, size=MCS) # 1 acid picked from A each MCS\n",
    "curr_neigh_pick = 0\n",
    "\n",
    "prob_picks = np.random.uniform(0, 1, size=MCS)\n",
    "curr_prob_pick = 0\n",
    "\n",
    "\n",
    "for i in range(MCS):\n",
    "    E[i] = E_chain\n",
    "    lattice, A, E_chain = sweep(lattice, A, E_chain, curr_acid_pick, curr_neigh_pick, curr_prob_pick, 1)\n",
    "\n",
    "    E_average += E_chain\n",
    "\n",
    "    curr_acid_pick += 1\n",
    "    curr_neigh_pick += 1\n",
    "    curr_prob_pick += 1\n",
    "\n",
    "    \n",
    "plt.plot(np.arange(0, int(MCS)), E)\n",
    "plt.show()\n",
    "\n",
    "\n",
    "E_average /= MCS\n",
    "print(E_average)"
   ]
  }
 ],
 "metadata": {
  "kernelspec": {
   "display_name": "Python 3",
   "language": "python",
   "name": "python3"
  },
  "language_info": {
   "codemirror_mode": {
    "name": "ipython",
    "version": 3
   },
   "file_extension": ".py",
   "mimetype": "text/x-python",
   "name": "python",
   "nbconvert_exporter": "python",
   "pygments_lexer": "ipython3",
   "version": "3.6.1"
  }
 },
 "nbformat": 4,
 "nbformat_minor": 2
}

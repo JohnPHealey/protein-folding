{
 "cells": [
  {
   "cell_type": "markdown",
   "metadata": {},
   "source": [
    "# Protein Folding (Levinthal's Paradox) #\n",
    "### By: John Healey ###"
   ]
  },
  {
   "cell_type": "markdown",
   "metadata": {},
   "source": [
    "### Energy ###\n",
    "\n",
    "Energy J[i, j] between two nearest-neighbour acids that are not connected in the chain\n",
    "<ul>\n",
    "    <li>Combined contributions of VDW, covalent bonds, and water effects</li>\n",
    "    <li>Depends on acid types of i and j</li>\n",
    "    <li>Energy between non-nearest-neighbours taken to be 0</li>\n",
    "    <li>Total energy of the protein is the sum over all non-covalently-bonded nearest neighbours (NBNN)</li>\n",
    "    <li>Which acids are NBNN depends on the tertiary structure of the protein (Energy is a function of structure)</li>\n",
    "</ul>\n"
   ]
  },
  {
   "cell_type": "markdown",
   "metadata": {
    "collapsed": true
   },
   "source": [
    "### Initialization ###\n",
    "\n",
    "Before the actual simulation:\n",
    "<ol>\n",
    "    <li>Choose a (permanent) primary structure for the protein:\n",
    "        <ol>\n",
    "            <li>Determine length of protein chain (N)</li>\n",
    "            <li>Decide (randomly) types of the N amino acids making up the chain (each link is an integer between 1 and 20)</li>\n",
    "            <li>These integers will be stored in an array of length N, called A.</li>\n",
    "        </ol>\n",
    "    </li>\n",
    "    <li>Specify interaction energies J<sub>i,j</sub> between the different types of acids:\n",
    "        <ul>\n",
    "            <li>20x20 matrix (20 different types) J</li>\n",
    "            <li>Index J at i,j to get the interaction energy between acid types i and j</li>\n",
    "            <li>We will assume that J<sub>i,j</sub> vary randomly withing some specified range (-4 to -2)</li>\n",
    "        </ul>\n",
    "    </li>\n",
    "    <li>Choose an initial tertiary structure for the protein:\n",
    "        <ul>\n",
    "            <li>Can be a completely straight chain</li>\n",
    "            <li>Self-avoiding walk?</li>\n",
    "        </ul>\n",
    "    </li>\n",
    "    <li>Put the protein on a sufficiently large lattice\n",
    "</ol>"
   ]
  },
  {
   "cell_type": "markdown",
   "metadata": {},
   "source": [
    "### Simulation ###\n",
    "\n",
    "In one sweep of the protein, the following is done:\n",
    "\n",
    "<ol>\n",
    "    <li>Randomly select an acid, a, from A (by choosing a random number between 0 and N-1)</li>\n",
    "    <li>This acid is said to have coordinates (x<sub>0</sub>, y<sub>0</sub>)</li>\n",
    "    <li>Randomly select one of a's nearest neighbour positions (x<sub>n</sub>, y<sub>n</sub>)\n",
    "        (<strong>Note: The text is unclear as to what constitutes a nearest neighbour. It says that each position has 4 \n",
    "        nearest neighbours, but then says acids can transfer to a position diagonal to them - implying that each acid has \n",
    "        8 nearest neighbours, at least as far as transitions are concerned (for energy calculations, it seems to be the \n",
    "        classic 4 - see Figure 12.3)\n",
    "        </strong>\n",
    "    </li>\n",
    "    <li>See if a could move to (x<sub>n</sub>, y<sub>n</sub>) without breaking a covalent bond</li>\n",
    "    <li>If so, calculate the energy of the acid with its current neighbours, and that with its potential new neighbours</li>\n",
    "    <li>If the change in energy is <strong>negative</strong>, move the acid</li>\n",
    "    <li>Otherwise, move it probabilistically (if random num from 0-1 less than boltzmann factor exp(-dE/kT))</li>\n",
    "    <li>Accumulate running sums for averages</li>\n",
    "</ol>\n",
    "\n",
    "After you do all sweeps, divide running sums by number of sweeps to get averages for the particular temperature at which \n",
    "the sweeps were performed.\n",
    "\n",
    "Can investigate starting unfolded at a high temperature and seeing how Energy varies with temperature.\n",
    "\n",
    "Can also investigate how an initially unfolded chain behaves at low temperature (Levinthal's paradox):\n",
    "<ul>\n",
    "    <li>Run simulation at low temperature on same chain multiple times</li>\n",
    "    <li>Find time series of energy for each run (E vs Current MC step)</li>\n",
    "    <li>Find that runs have different final energies (tertiary structures)</li>\n",
    "    <li>In each case, protein was in \"metastable\" state, was not able to locate global minimum</li>\n",
    "    <li>Actual protein is able to find global minimum from so many possible structures in no time!!!!!!!</li>\n",
    "</ul>\n",
    "\n",
    "How might we solve this paradox, and get the protein into the lowest energy state?\n",
    "\n",
    "Annealing:\n",
    "<ul>\n",
    "    <li>Start the simulation at a very high temperature, allowing the protein to explore all of the configurations</li>\n",
    "    <li>Slowly lower the temperature, so the protein will still fluctuate, but will spend increasing amounts of time \n",
    "    in the lowest-energy state</li>\n",
    "    <li>When the final temperature is reached, hopefully the protein managed to sample a bunch of different states, and has \n",
    "    landed in the most stable one.</li>\n",
    "</ul>"
   ]
  },
  {
   "cell_type": "markdown",
   "metadata": {},
   "source": [
    "### Take-away ###\n",
    "<ul>\n",
    "    <li>Our model does show a transition to a folded structure at low T</li>\n",
    "    <li>We are not able to avoid getting trapped in meta-stable states, but annealing helps</li>\n",
    "    <li>Annealing is less effective on longer (therefore more realistic) protein chains, since these chains have more possible \n",
    "    states, so can explore a smaller fraction of them in a given amount of time</li>\n",
    "    <li>So how does nature seem to avoid Levinthal's paradox, and so quickly?\n",
    "        <ul>\n",
    "            <li>Maybe it doesn't</li>\n",
    "            <li>Nature only uses a small portion of the possible primary structures</li>\n",
    "            <li>It is possible that the ones used have energy surfaces that allow them to efficiently get to their unique \n",
    "            tertiary structure</li>\n",
    "        </ul>\n",
    "    </li>\n",
    "</ul>"
   ]
  },
  {
   "cell_type": "markdown",
   "metadata": {
    "collapsed": true
   },
   "source": [
    "### Coding ###\n",
    "\n",
    "<ul>\n",
    "    <li>Collection of acids, A, will be numpy 1d-array of numpy 1d-arrays [type, x, y]</li>\n",
    "    <li>Types will be random, created in the initialization period using numpy.random.randint()\n",
    "    <li>Lattice will be numpy 2d-array holding the chain</li>\n",
    "    \n",
    "</ul>"
   ]
  },
  {
   "cell_type": "markdown",
   "metadata": {},
   "source": [
    "## Initialization ##"
   ]
  },
  {
   "cell_type": "code",
   "execution_count": 1,
   "metadata": {
    "collapsed": true
   },
   "outputs": [],
   "source": [
    "import numpy as np\n",
    "from matplotlib import pyplot as plt\n",
    "from numba import jit\n",
    "import math"
   ]
  },
  {
   "cell_type": "code",
   "execution_count": 3,
   "metadata": {
    "collapsed": true
   },
   "outputs": [],
   "source": [
    "# Protein length, can be varied as desired.\n",
    "N = 30\n",
    "\n",
    "# Interaction energies between different types of acids\n",
    "# Interaction energy between type i and type j is J[i, j]\n",
    "J = np.random.uniform(-4, -2, size=(20, 20))\n",
    "\n",
    "J = np.hstack((np.zeros((J.shape[0],1)),J)) # Type 0 doesn't exist, has an interaction energy\n",
    "J = np.vstack((np.zeros((1,J.shape[1])),J)) # of 0 with every type\n",
    "\n",
    "J = (J + J.T)/2 # Make J symmetrix, since i-j is the same as j-i\n",
    "\n",
    "\n",
    "\n",
    "# The type of each acid in the chain\n",
    "types = np.random.randint(1, 21, size=N, dtype=int)\n",
    "\n",
    "\n",
    "# Create x and y coordinates such that the chain will be horizontal, and centered in the 5N x 5N lattice\n",
    "x_start = int(2*N)\n",
    "x_end = int(3*N)\n",
    "y_start = int(2.5*N)\n",
    "pos_xs = np.arange(x_start, x_end, dtype=int)\n",
    "pos_ys = np.empty(N, dtype=int); pos_ys.fill(y_start)\n",
    "\n",
    "\n",
    "#left-down, left-up, right-up, right-down\n",
    "move_neighs = np.array([(-1,1), (-1,-1), (1,-1), (1,1)], dtype=int)"
   ]
  },
  {
   "cell_type": "code",
   "execution_count": 4,
   "metadata": {
    "collapsed": true
   },
   "outputs": [],
   "source": [
    "@jit\n",
    "def initialize_lattice():\n",
    "\n",
    "    '''\n",
    "    Returns the initial configurations of the lattice and the protein.\n",
    "    '''\n",
    "    \n",
    "    # Zip type, x_pos, and y_pos to create array defining each acid (this is the protein)\n",
    "    # Acids store their x and y positions for simplicity in computation of neighbours\n",
    "    A = np.empty(shape=(N,3), dtype=int)\n",
    "    for i in range(A.shape[0]):\n",
    "        A[i] = np.array([types[i], pos_xs[i], pos_ys[i]])\n",
    "    \n",
    "    lattice = np.zeros(shape=(5*N,5*N), dtype=int)\n",
    "    \n",
    "    # Put protein on lattice\n",
    "    lattice[y_start, x_start:x_end] = types\n",
    "    \n",
    "    return lattice, A"
   ]
  },
  {
   "cell_type": "markdown",
   "metadata": {},
   "source": [
    "## Helper Methods ##"
   ]
  },
  {
   "cell_type": "code",
   "execution_count": 5,
   "metadata": {
    "collapsed": true
   },
   "outputs": [],
   "source": [
    "@jit\n",
    "def get_neighbours(lattice, x, y):\n",
    "    \n",
    "    '''\n",
    "    Returns the nearest neighbours of the given coordinate in the given lattice\n",
    "    '''\n",
    "    \n",
    "    left = (x-1, y) if not x == 0 else None\n",
    "    bottom = (x, y+1) if not y == lattice.shape[1]-1 else None\n",
    "    right = (x+1, y) if not x == lattice.shape[0]-1 else None\n",
    "    top = (x, y-1) if not y == 0 else None\n",
    "        \n",
    "    return [left, bottom, right, top]"
   ]
  },
  {
   "cell_type": "code",
   "execution_count": 6,
   "metadata": {
    "collapsed": true
   },
   "outputs": [],
   "source": [
    "@jit\n",
    "def energy(lattice, a_type, x, y, partners):\n",
    "    \n",
    "    '''\n",
    "    Returns the energy of the given acid in the given lattice.\n",
    "    Given the acid's partners so it knows what to exclude from the energy calculation\n",
    "    '''\n",
    "    \n",
    "    neighbours = get_neighbours(lattice, x, y)\n",
    "            \n",
    "    E = 0\n",
    "    for neigh in neighbours:\n",
    "        \n",
    "        if neigh not in partners: # then it contributes to the energy\n",
    "                        \n",
    "            str(lattice[neigh[1], neigh[0]]) # python is quirky?\n",
    "            \n",
    "            neigh_type = lattice[neigh[1], neigh[0]]\n",
    "            E += J[a_type, neigh_type]\n",
    "      \n",
    "    return E"
   ]
  },
  {
   "cell_type": "code",
   "execution_count": 7,
   "metadata": {
    "collapsed": true
   },
   "outputs": [],
   "source": [
    "@jit\n",
    "def re_center(lattice, A):\n",
    "    \n",
    "    '''\n",
    "    Places the first acid in the chain at the position at which it started the simulation.\n",
    "    Offsets the rest of the acids as appropriate to maintain the same structure.\n",
    "    Returns the adjusted lattice and protein.\n",
    "    '''\n",
    "    \n",
    "    offset_x = x_start - A[0,1]\n",
    "    offset_y = y_start - A[0,2]\n",
    "    \n",
    "    for row in A:\n",
    "        \n",
    "        lattice[row[2], row[1]] = 0\n",
    "        \n",
    "        row[1:] = [row[1] + offset_x, row[2] + offset_y]\n",
    "        \n",
    "        lattice[row[2], row[1]] = row[0]\n",
    "    \n",
    "    return lattice, A"
   ]
  },
  {
   "cell_type": "markdown",
   "metadata": {},
   "source": [
    "## Monte Carlo Sweep ##"
   ]
  },
  {
   "cell_type": "code",
   "execution_count": 8,
   "metadata": {
    "collapsed": true
   },
   "outputs": [],
   "source": [
    "@jit\n",
    "def sweep(lattice, A, E_chain, acid_pos, neigh_type, curr_prob, T): \n",
    "    \n",
    "    '''\n",
    "    Selects one acid, determines the change in energy from moving that acid, then either moves it or doesn't\n",
    "    '''\n",
    "    \n",
    "    acid = A[acid_pos]\n",
    "    acid_x = acid[1]\n",
    "    acid_y = acid[2]\n",
    "    \n",
    "    \n",
    "    # Determine the acids the currently examined acid is bonded to \n",
    "    first_partner = tuple(A[acid_pos-1, 1:]) if not acid_pos == 0 else None\n",
    "    second_partner = tuple(A[acid_pos+1, 1:]) if not acid_pos == len(A)-1 else None\n",
    "    partners = (first_partner, second_partner)\n",
    "        \n",
    "    \n",
    "    # Randomly select a nearest neighbour to move to    \n",
    "    neigh_offset = move_neighs[neigh_type]\n",
    "    \n",
    "    neigh_pos = (acid_x+neigh_offset[0], acid_y+neigh_offset[1]) # creating a tuple is faster than assigning a list\n",
    "    \n",
    "    \n",
    "    # Determine if acid can move to selected position without breaking bonds  \n",
    "    can_move = True\n",
    "    \n",
    "    if lattice[neigh_pos[1], neigh_pos[0]] != 0:\n",
    "        can_move = False\n",
    "        \n",
    "    else:\n",
    "        for partner in partners:\n",
    "            if partner is None:\n",
    "                continue\n",
    "            elif not (abs(partner[0] - neigh_pos[0]) + abs(partner[1] - neigh_pos[1]) == 1):\n",
    "                can_move = False\n",
    "    \n",
    "    \n",
    "    \n",
    "    if can_move:\n",
    "        \n",
    "        # Calculate the energy change from the move\n",
    "        E_i = energy(lattice, acid[0], acid_x, acid_y, partners)\n",
    "        E_f = energy(lattice, acid[0], neigh_pos[0], neigh_pos[1], partners)\n",
    "        delta_E = E_f-E_i    \n",
    "\n",
    "        \n",
    "        # Move the acid under the right circumstances\n",
    "        if delta_E < 0 or curr_prob < math.exp(-delta_E/T):\n",
    "            \n",
    "            lattice[acid_y, acid_x] = 0\n",
    "                        \n",
    "            lattice[neigh_pos[1], neigh_pos[0]] = acid[0]\n",
    "            \n",
    "            A[acid_pos] = [acid[0], neigh_pos[0], neigh_pos[1]]                        \n",
    "            \n",
    "            E_chain += delta_E\n",
    "\n",
    "\n",
    "        \n",
    "    return lattice, A, E_chain"
   ]
  },
  {
   "cell_type": "markdown",
   "metadata": {},
   "source": [
    "## Thermal Averages ##\n",
    "\n",
    "As expected, when starting at a high temperature (T = 10) and gradually decreasing, the average energy of the chain \n",
    "decreased. This makes sense, since the chain is more free to explore a greated number of states at high temperature, \n",
    "since the probability of making a move that increases the energy of the chain is proportional to temperature. As the \n",
    "temperature decreases, the chain is more likely to get stuck in a relatively low energy state."
   ]
  },
  {
   "cell_type": "code",
   "execution_count": 9,
   "metadata": {
    "collapsed": true,
    "scrolled": true
   },
   "outputs": [],
   "source": [
    "MCS = 500000\n",
    "\n",
    "T = np.arange(10, 0, -0.5)\n",
    "\n",
    "E_averages = np.zeros(len(T))\n",
    "\n",
    "lattice, A = initialize_lattice()\n",
    "E_chain = 0\n",
    "\n",
    "\n",
    "for j in range(len(T)):\n",
    "    \n",
    "    E = np.zeros(MCS)\n",
    "    E_average = 0\n",
    "\n",
    "\n",
    "\n",
    "    # Pre-select random acid and neighbour picks for better performance\n",
    "    acid_picks = np.random.randint(0, A.shape[0], size=MCS) # 1 acid picked from A each MCS\n",
    "    curr_acid_pick = 0\n",
    "\n",
    "    neigh_picks = np.random.randint(0, 4, size=MCS) # 1 acid picked from A each MCS\n",
    "    curr_neigh_pick = 0\n",
    "\n",
    "    prob_picks = np.random.uniform(0, 1, size=MCS)\n",
    "    curr_prob_pick = 0\n",
    "\n",
    "\n",
    "    for i in range(MCS):\n",
    "        E[i] = E_chain\n",
    "        lattice, A, E_chain = sweep(lattice, A, E_chain, acid_picks[curr_acid_pick], \n",
    "                                    neigh_picks[curr_neigh_pick], prob_picks[curr_prob_pick], T[j])\n",
    "\n",
    "        if (i>0.1*MCS):\n",
    "            E_average += E_chain\n",
    "\n",
    "        curr_acid_pick += 1\n",
    "        curr_neigh_pick += 1\n",
    "        curr_prob_pick += 1\n",
    "\n",
    "\n",
    "    E_average /= (0.9*MCS-1)\n",
    "    E_averages[j] = E_average\n",
    "    \n",
    "    lattice, A = re_center(lattice, A)"
   ]
  },
  {
   "cell_type": "code",
   "execution_count": 10,
   "metadata": {},
   "outputs": [
    {
     "data": {
      "image/png": "[encoded data removed]",
      "text/plain": [
       "<matplotlib.figure.Figure at 0x1daa0bc4e10>"
      ]
     },
     "metadata": {},
     "output_type": "display_data"
    }
   ],
   "source": [
    "plt.plot(T, E_averages, 'ro')\n",
    "plt.show()"
   ]
  },
  {
   "cell_type": "code",
   "execution_count": 12,
   "metadata": {},
   "outputs": [
    {
     "data": {
      "text/plain": [
       "'\\nout = open(\\'100.dat\\', \\'w\\')\\nfor i in range(len(T)):\\n    out.write(str(T[i]) + \" \" + str(E_averages[i]) + \" \" + str(l_averages[i]) + \"\\n\")\\n    \\nout.close()\\n\\n'"
      ]
     },
     "execution_count": 12,
     "metadata": {},
     "output_type": "execute_result"
    }
   ],
   "source": [
    "out = open(str(N) + '.dat', 'w')\n",
    "for i in range(len(T)):\n",
    "    out.write(str(T[i]) + \" \" + str(E_averages[i]) + \"\\n\")  \n",
    "out.close()"
   ]
  },
  {
   "cell_type": "markdown",
   "metadata": {},
   "source": [
    "## Two simulations at Low Temperature ##\n",
    "\n",
    "Taking the same chain through the simulation twice, at the same temperature each time, produced different results. \n",
    "The chain ended up at a different energy in each simulation, corresponding to the protein being in a different final \n",
    "tertiary structure. This is a result of \"metastable\" states, or local minima in the energy. While looking for the global \n",
    "minimum, the chain gets stuck in a metastable state, which can be pictured as a well. At low temperature, the chain is unlikely to escape the well, since it is unlikely to make moves that increase the energy. As we know, real proteins are able to get to the same final structure almost instantly each time they are unfolded. This means that our model is not behaving like a real protein."
   ]
  },
  {
   "cell_type": "code",
   "execution_count": 11,
   "metadata": {
    "collapsed": true
   },
   "outputs": [],
   "source": [
    "T = 1\n",
    "\n",
    "MCS = 500000\n",
    "\n",
    "lowT_Es = np.zeros((2, MCS))\n",
    "\n",
    "\n",
    "for j in range(2):\n",
    "\n",
    "    \n",
    "    lattice, A = initialize_lattice()\n",
    "    E_chain = 0\n",
    "    E = np.zeros(MCS)\n",
    "\n",
    "\n",
    "    # Pre-select random acid and neighbour picks for better performance\n",
    "    acid_picks = np.random.randint(0, A.shape[0], size=MCS) # 1 acid picked from A each MCS\n",
    "    curr_acid_pick = 0\n",
    "\n",
    "    neigh_picks = np.random.randint(0, 4, size=MCS) # 1 acid picked from A each MCS\n",
    "    curr_neigh_pick = 0\n",
    "\n",
    "    prob_picks = np.random.uniform(0, 1, size=MCS)\n",
    "    curr_prob_pick = 0\n",
    "\n",
    "\n",
    "    for i in range(MCS):\n",
    "        E[i] = E_chain\n",
    "        lattice, A, E_chain = sweep(lattice, A, E_chain, acid_picks[curr_acid_pick],\n",
    "                                    neigh_picks[curr_neigh_pick], prob_picks[curr_prob_pick], T)\n",
    "\n",
    "\n",
    "        curr_acid_pick += 1\n",
    "        curr_neigh_pick += 1\n",
    "        curr_prob_pick += 1\n",
    "\n",
    "\n",
    "    lowT_Es[j] = E"
   ]
  },
  {
   "cell_type": "code",
   "execution_count": 12,
   "metadata": {},
   "outputs": [
    {
     "data": {
      "image/png": "[encoded data removed]",
      "text/plain": [
       "<matplotlib.figure.Figure at 0x1da9f1e4278>"
      ]
     },
     "metadata": {},
     "output_type": "display_data"
    },
    {
     "data": {
      "image/png": "[encoded data removed]",
      "text/plain": [
       "<matplotlib.figure.Figure at 0x1da9d881e10>"
      ]
     },
     "metadata": {},
     "output_type": "display_data"
    }
   ],
   "source": [
    "plt.plot(np.arange(MCS), lowT_Es[0])\n",
    "plt.show()\n",
    "\n",
    "plt.plot(np.arange(MCS), lowT_Es[1])\n",
    "plt.show()"
   ]
  },
  {
   "cell_type": "code",
   "execution_count": 13,
   "metadata": {
    "collapsed": true
   },
   "outputs": [],
   "source": [
    "#Done with N=30\n",
    "\n",
    "out1 = open('lowT1.dat', 'w')\n",
    "out2 = open('lowT2.dat', 'w')\n",
    "\n",
    "for i in range(500000):\n",
    "    out1.write(str(i) + \" \" + str(lowT_Es[0,i]) + \"\\n\")\n",
    "    out2.write(str(i) + \" \" + str(lowT_Es[1,i]) + \"\\n\")\n",
    "    \n",
    "out1.close()\n",
    "out2.close()"
   ]
  },
  {
   "cell_type": "markdown",
   "metadata": {},
   "source": [
    "## Annealing ##\n",
    "\n",
    "To try to get our model to behave more like a real protein, we use a process called Annealing. \n",
    "This means that we start the simulation at a temperature that is high enough so that energy fluctuations are large, and the \n",
    "chain can escape energy wells. The temperature is slowly lowered, so that it spends an increasing amount of time \n",
    "in the states with the lowest energies. When the final temperature is reached, the protein will be stuck in some final state, \n",
    "which is hopefully the lowest energy state."
   ]
  },
  {
   "cell_type": "code",
   "execution_count": 14,
   "metadata": {},
   "outputs": [
    {
     "name": "stdout",
     "output_type": "stream",
     "text": [
      "4\n",
      "3\n",
      "2\n",
      "1\n"
     ]
    }
   ],
   "source": [
    "T = 5\n",
    "\n",
    "MCS = 2000000\n",
    "\n",
    "lattice, A = initialize_lattice()\n",
    "E_chain = 0\n",
    "E = np.zeros(MCS)\n",
    "\n",
    "\n",
    "# Pre-select random acid and neighbour picks for better performance\n",
    "acid_picks = np.random.randint(0, A.shape[0], size=MCS) # 1 acid picked from A each MCS\n",
    "curr_acid_pick = 0\n",
    "\n",
    "neigh_picks = np.random.randint(0, 4, size=MCS) # 1 acid picked from A each MCS\n",
    "curr_neigh_pick = 0\n",
    "\n",
    "prob_picks = np.random.uniform(0, 1, size=MCS)\n",
    "curr_prob_pick = 0\n",
    "\n",
    "\n",
    "for i in range(MCS):\n",
    "    E[i] = E_chain\n",
    "    lattice, A, E_chain = sweep(lattice, A, E_chain, acid_picks[curr_acid_pick],\n",
    "                                neigh_picks[curr_neigh_pick], prob_picks[curr_prob_pick], T)\n",
    "\n",
    "\n",
    "    curr_acid_pick += 1\n",
    "    curr_neigh_pick += 1\n",
    "    curr_prob_pick += 1\n",
    "    \n",
    "    if i%500000 == 0:\n",
    "        T -= 1\n",
    "\n",
    "\n"
   ]
  },
  {
   "cell_type": "code",
   "execution_count": 15,
   "metadata": {},
   "outputs": [
    {
     "data": {
      "image/png": "[encoded data removed]",
      "text/plain": [
       "<matplotlib.figure.Figure at 0x1da9de29ef0>"
      ]
     },
     "metadata": {},
     "output_type": "display_data"
    }
   ],
   "source": [
    "plt.plot(np.arange(MCS), E)\n",
    "plt.show()"
   ]
  },
  {
   "cell_type": "code",
   "execution_count": 16,
   "metadata": {
    "collapsed": true
   },
   "outputs": [],
   "source": [
    "anneal_out = open('anneal.dat', 'w')\n",
    "for i in range(2000000):\n",
    "    anneal_out.write(str(i) + \" \" + str(E[i]) + \"\\n\")\n",
    "    \n",
    "anneal_out.close()\n"
   ]
  },
  {
   "cell_type": "markdown",
   "metadata": {},
   "source": [
    "## Changing Interaction Energies ##"
   ]
  },
  {
   "cell_type": "code",
   "execution_count": 100,
   "metadata": {
    "collapsed": true
   },
   "outputs": [],
   "source": [
    "# All interaction energies are 1\n",
    "J_same = np.ones((20, 20))\n",
    "J_same = np.hstack((np.zeros((J_same.shape[0],1)),J_same))\n",
    "J_same = np.vstack((np.zeros((1,J_same.shape[1])),J_same))\n",
    "J_same = (J_same + J_same.T)/2\n",
    "\n",
    "# Interaction energies are randomly selected to be 1 or -1\n",
    "J_diff = np.random.uniform(0, 1, size=(20,20))\n",
    "J_diff = (J_diff + J_diff.T)/2\n",
    "J_diff[J_diff<0.5] = -1\n",
    "J_diff[J_diff>=0.5] = 1\n",
    "J_diff = np.hstack((np.zeros((J_diff.shape[0],1)),J_diff))\n",
    "J_diff = np.vstack((np.zeros((1,J_diff.shape[1])),J_diff))"
   ]
  },
  {
   "cell_type": "code",
   "execution_count": 101,
   "metadata": {
    "collapsed": true
   },
   "outputs": [],
   "source": [
    "T = 1\n",
    "\n",
    "MCS = 500000\n",
    "\n",
    "E_same = np.zeros(MCS)\n",
    "E_diff = np.zeros(MCS)\n",
    "\n",
    "\n",
    "for j in range(2):\n",
    "\n",
    "    \n",
    "    lattice, A = initialize_lattice()\n",
    "    E_chain = 0\n",
    "    E = np.zeros(MCS)\n",
    "    \n",
    "    if j==0:\n",
    "        J = J_same\n",
    "    else:\n",
    "        J = J_diff\n",
    "\n",
    "\n",
    "    # Pre-select random acid and neighbour picks for better performance\n",
    "    acid_picks = np.random.randint(0, A.shape[0], size=MCS) # 1 acid picked from A each MCS\n",
    "    curr_acid_pick = 0\n",
    "\n",
    "    neigh_picks = np.random.randint(0, 4, size=MCS) # 1 acid picked from A each MCS\n",
    "    curr_neigh_pick = 0\n",
    "\n",
    "    prob_picks = np.random.uniform(0, 1, size=MCS)\n",
    "    curr_prob_pick = 0\n",
    "\n",
    "\n",
    "    for i in range(MCS):\n",
    "        E[i] = E_chain\n",
    "        lattice, A, E_chain = sweep(lattice, A, E_chain, acid_picks[curr_acid_pick],\n",
    "                                    neigh_picks[curr_neigh_pick], prob_picks[curr_prob_pick], T)\n",
    "\n",
    "\n",
    "        curr_acid_pick += 1\n",
    "        curr_neigh_pick += 1\n",
    "        curr_prob_pick += 1\n",
    "\n",
    "\n",
    "    if j == 0:\n",
    "        E_same = E\n",
    "    else:\n",
    "        E_diff = E"
   ]
  },
  {
   "cell_type": "code",
   "execution_count": 102,
   "metadata": {},
   "outputs": [
    {
     "data": {
      "image/png": "[encoded data removed]",
      "text/plain": [
       "<matplotlib.figure.Figure at 0x1b52aeaf390>"
      ]
     },
     "metadata": {},
     "output_type": "display_data"
    }
   ],
   "source": [
    "plt.plot(np.arange(MCS), E_same)\n",
    "plt.plot(np.arange(MCS), E_diff)\n",
    "plt.show()"
   ]
  },
  {
   "cell_type": "code",
   "execution_count": 103,
   "metadata": {
    "collapsed": true
   },
   "outputs": [],
   "source": [
    "out1 = open('Esame.dat', 'w')\n",
    "out2 = open('Ediff.dat', 'w')\n",
    "\n",
    "for i in range(500000):\n",
    "    out1.write(str(i) + \" \" + str(E_same[i]) + \"\\n\")\n",
    "    out2.write(str(i) + \" \" + str(E_diff[i]) + \"\\n\")\n",
    "    \n",
    "out1.close()\n",
    "out2.close()"
   ]
  }
 ],
 "metadata": {
  "kernelspec": {
   "display_name": "Python 3",
   "language": "python",
   "name": "python3"
  },
  "language_info": {
   "codemirror_mode": {
    "name": "ipython",
    "version": 3
   },
   "file_extension": ".py",
   "mimetype": "text/x-python",
   "name": "python",
   "nbconvert_exporter": "python",
   "pygments_lexer": "ipython3",
   "version": "3.6.1"
  }
 },
 "nbformat": 4,
 "nbformat_minor": 2
}
